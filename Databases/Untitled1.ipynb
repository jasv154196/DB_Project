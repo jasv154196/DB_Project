{
 "cells": [
  {
   "cell_type": "code",
   "execution_count": 1,
   "metadata": {
    "collapsed": true
   },
   "outputs": [],
   "source": [
    "import pandas as pd"
   ]
  },
  {
   "cell_type": "code",
   "execution_count": 2,
   "metadata": {},
   "outputs": [
    {
     "name": "stderr",
     "output_type": "stream",
     "text": [
      "/anaconda3/lib/python3.6/site-packages/IPython/core/interactiveshell.py:2698: DtypeWarning: Columns (4,6,31,33,61,62,63,76,79,90,92,94,96,114,115,121) have mixed types. Specify dtype option on import or set low_memory=False.\n",
      "  interactivity=interactivity, compiler=compiler, result=result)\n"
     ]
    }
   ],
   "source": [
    "terrorism = pd.read_csv('globalterrorismdb_0718dist.csv', encoding='ISO-8859-1')\n",
    "terrorism.rename(columns={'iyear':'Year','imonth':'Month','iday':'Day','country_txt':'Country','region_txt':'Region','attacktype1_txt':'AttackType','target1':'Target','nkill':'Killed','nwound':'Wounded','summary':'Summary','gname':'Group'},inplace=True)\n",
    "terrorism=terrorism[['Year','Month','Day','Country','Region','city','latitude','longitude','AttackType','Killed','Wounded','Target','Summary','Group']]\n",
    "terrorism['casualities'] = terrorism['Killed']+terrorism['Wounded']"
   ]
  },
  {
   "cell_type": "code",
   "execution_count": 7,
   "metadata": {},
   "outputs": [
    {
     "data": {
      "text/plain": [
       "Iraq                              24636\n",
       "Pakistan                          14368\n",
       "Afghanistan                       12731\n",
       "India                             11960\n",
       "Colombia                           8306\n",
       "Philippines                        6908\n",
       "Peru                               6096\n",
       "El Salvador                        5320\n",
       "United Kingdom                     5235\n",
       "Turkey                             4292\n",
       "Somalia                            4142\n",
       "Nigeria                            3907\n",
       "Thailand                           3849\n",
       "Yemen                              3347\n",
       "Spain                              3249\n",
       "Sri Lanka                          3022\n",
       "United States                      2836\n",
       "Algeria                            2743\n",
       "France                             2693\n",
       "Egypt                              2479\n",
       "Lebanon                            2478\n",
       "Chile                              2365\n",
       "Libya                              2249\n",
       "West Bank and Gaza Strip           2227\n",
       "Syria                              2201\n",
       "Russia                             2194\n",
       "Israel                             2183\n",
       "Guatemala                          2050\n",
       "South Africa                       2016\n",
       "Nicaragua                          1970\n",
       "                                  ...  \n",
       "Malawi                                5\n",
       "Western Sahara                        5\n",
       "Grenada                               5\n",
       "Bahamas                               5\n",
       "Comoros                               5\n",
       "Montenegro                            5\n",
       "Solomon Islands                       4\n",
       "People's Republic of the Congo        4\n",
       "Iceland                               4\n",
       "Barbados                              3\n",
       "Dominica                              3\n",
       "French Polynesia                      3\n",
       "Gambia                                3\n",
       "Mauritius                             2\n",
       "Seychelles                            2\n",
       "St. Kitts and Nevis                   2\n",
       "Turkmenistan                          2\n",
       "Vanuatu                               2\n",
       "Equatorial Guinea                     2\n",
       "South Yemen                           2\n",
       "South Vietnam                         1\n",
       "Antigua and Barbuda                   1\n",
       "St. Lucia                             1\n",
       "International                         1\n",
       "Falkland Islands                      1\n",
       "Andorra                               1\n",
       "North Korea                           1\n",
       "Vatican City                          1\n",
       "New Hebrides                          1\n",
       "Wallis and Futuna                     1\n",
       "Name: Country, Length: 205, dtype: int64"
      ]
     },
     "execution_count": 7,
     "metadata": {},
     "output_type": "execute_result"
    }
   ],
   "source": [
    "terrorism['Country'].value_counts()"
   ]
  },
  {
   "cell_type": "code",
   "execution_count": null,
   "metadata": {
    "collapsed": true
   },
   "outputs": [],
   "source": []
  }
 ],
 "metadata": {
  "kernelspec": {
   "display_name": "Python 3",
   "language": "python",
   "name": "python3"
  },
  "language_info": {
   "codemirror_mode": {
    "name": "ipython",
    "version": 3
   },
   "file_extension": ".py",
   "mimetype": "text/x-python",
   "name": "python",
   "nbconvert_exporter": "python",
   "pygments_lexer": "ipython3",
   "version": "3.6.3"
  }
 },
 "nbformat": 4,
 "nbformat_minor": 2
}
